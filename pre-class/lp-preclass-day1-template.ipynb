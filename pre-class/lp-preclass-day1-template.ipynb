{
 "cells": [
  {
   "cell_type": "markdown",
   "metadata": {},
   "source": [
    "# LP Pre-Class Day 1: Using Libraries\n",
    "\n",
    "In the Jupyter notebook, follow [Quick start — Python-MIP documentation](https://docs.python-mip.com/en/latest/quickstart.html) to solve the given problem using the Python Mixed Integer Programming library. Check your solution against the given optimal solution.\n",
    "\n",
    "```\n",
    "max z = 5x_1 + 4x_2 + 3x_3  \n",
    "subject to:  \n",
    "    2x_1 + 3x_2 + 1x_3 <= 5  \n",
    "    4x_1 + 1x_2 + 2x_3 <= 11  \n",
    "    3x_1 + 4x_2 + 2x_3 <= 8  \n",
    "    x_1 >= 0  \n",
    "    x_2 >= 0  \n",
    "    x_3 >= 0  \n",
    "```\n",
    "```\n",
    "optimal solution:  \n",
    "    z=13,  \n",
    "    x_1 = 2,  \n",
    "    x_2 = 0,  \n",
    "    x_3 =1\n",
    "```  "
   ]
  },
  {
   "cell_type": "markdown",
   "metadata": {},
   "source": [
    "## Install the `mip` library\n",
    "\n",
    "Python-MIP requires Python 3.5 or newer."
   ]
  },
  {
   "cell_type": "code",
   "execution_count": 2,
   "metadata": {},
   "outputs": [
    {
     "name": "stdout",
     "output_type": "stream",
     "text": [
      "Collecting mip\n",
      "  Downloading mip-1.15.0-py3-none-any.whl (15.3 MB)\n",
      "\u001b[2K     \u001b[90m━━━━━━━━━━━━━━━━━━━━━━━━━━━━━━━━━━━━━━━━\u001b[0m \u001b[32m15.3/15.3 MB\u001b[0m \u001b[31m20.7 MB/s\u001b[0m eta \u001b[36m0:00:00\u001b[0m00:01\u001b[0m00:01\u001b[0m\n",
      "\u001b[?25hRequirement already satisfied: cffi==1.15.* in /home/mcranor/anaconda3/lib/python3.9/site-packages (from mip) (1.15.1)\n",
      "Requirement already satisfied: pycparser in /home/mcranor/anaconda3/lib/python3.9/site-packages (from cffi==1.15.*->mip) (2.21)\n",
      "Installing collected packages: mip\n",
      "Successfully installed mip-1.15.0\n"
     ]
    }
   ],
   "source": [
    "# uncomment if you use pip\n",
    "#!pip install mip"
   ]
  },
  {
   "cell_type": "markdown",
   "metadata": {},
   "source": [
    "# Follow Quick Start\n",
    "Long link: https://docs.python-mip.com/en/latest/quickstart.html\n",
    "\n",
    "Fill in code wherever there is a `#TODO` .   \n",
    "You will have to write 6 lines of code :)"
   ]
  },
  {
   "cell_type": "code",
   "execution_count": 5,
   "metadata": {},
   "outputs": [],
   "source": [
    "from mip import *"
   ]
  },
  {
   "cell_type": "code",
   "execution_count": 12,
   "metadata": {},
   "outputs": [],
   "source": [
    "# create an empty model with default settings\n",
    "m = Model()\n",
    "\n",
    "# create vector of 3 decision variables and add them to the model\n",
    "n = 3\n",
    "x = [m.add_var(var_type=CONTINUOUS) for i in range(n)]"
   ]
  },
  {
   "cell_type": "code",
   "execution_count": 14,
   "metadata": {},
   "outputs": [],
   "source": [
    "# add constraints to the model\n",
    "m += 2 * x[0] + 3 * x[1] + x[2] <= 5\n",
    "m += 4 * x[0] + x[1] + 2 * x[2] <= 11\n",
    "m += 3 * x[0] + 4 * x[1] + 2 * x[2] <= 8\n",
    "m += x[0] >= 0 \n",
    "m += x[1] >= 0 \n",
    "m += x[2] >= 0 \n",
    "\n",
    "# add objective function to model\n",
    "m.objective = maximize(5*x[0] +4*x[1]+3*x[2])"
   ]
  },
  {
   "cell_type": "code",
   "execution_count": 15,
   "metadata": {},
   "outputs": [
    {
     "name": "stdout",
     "output_type": "stream",
     "text": [
      "Starting solution of the Linear programming problem using Primal Simplex\n",
      "\n",
      "Coin0506I Presolve 3 (-9) rows, 3 (0) columns and 9 (-15) elements\n",
      "Clp1000I sum of infeasibilities 0 - average 0, 0 fixed columns\n",
      "Coin0506I Presolve 3 (0) rows, 3 (0) columns and 9 (0) elements\n",
      "Clp0029I End of values pass after 3 iterations\n",
      "Clp0000I Optimal - objective value 13\n",
      "Clp0000I Optimal - objective value 13\n",
      "Clp0000I Optimal - objective value 13\n"
     ]
    },
    {
     "data": {
      "text/plain": [
       "<OptimizationStatus.OPTIMAL: 0>"
      ]
     },
     "execution_count": 15,
     "metadata": {},
     "output_type": "execute_result"
    },
    {
     "name": "stdout",
     "output_type": "stream",
     "text": [
      "Coin0511I After Postsolve, objective 13, infeasibilities - dual 0 (0), primal 0 (0)\n",
      "Clp0032I Optimal objective 13 - 0 iterations time 0.002, Presolve 0.00, Idiot 0.00\n"
     ]
    }
   ],
   "source": [
    "# optimize\n",
    "m.optimize(max_seconds=300)"
   ]
  },
  {
   "cell_type": "code",
   "execution_count": 16,
   "metadata": {},
   "outputs": [
    {
     "name": "stdout",
     "output_type": "stream",
     "text": [
      "Clp0000I Optimal - objective value 13\n",
      "optimal solution cost 12.999999999999998 found\n",
      "solution:\n",
      "var(0) : 2.0\n",
      "var(2) : 0.9999999999999996\n"
     ]
    }
   ],
   "source": [
    "# show results\n",
    "status = m.optimize(max_seconds=300)\n",
    "if status == OptimizationStatus.OPTIMAL:\n",
    "    print('optimal solution cost {} found'.format(m.objective_value))\n",
    "elif status == OptimizationStatus.FEASIBLE:\n",
    "    print('sol.cost {} found, best possible: {}'.format(m.objective_value, m.objective_bound))\n",
    "elif status == OptimizationStatus.NO_SOLUTION_FOUND:\n",
    "    print('no feasible solution found, lower bound is: {}'.format(m.objective_bound))\n",
    "if status == OptimizationStatus.OPTIMAL or status == OptimizationStatus.FEASIBLE:\n",
    "    print('solution:')\n",
    "    for v in m.vars:\n",
    "       if abs(v.x) > 1e-6: # only printing non-zeros\n",
    "          print('{} : {}'.format(v.name, v.x))\n"
   ]
  }
 ],
 "metadata": {
  "kernelspec": {
   "display_name": "base",
   "language": "python",
   "name": "python3"
  },
  "language_info": {
   "codemirror_mode": {
    "name": "ipython",
    "version": 3
   },
   "file_extension": ".py",
   "mimetype": "text/x-python",
   "name": "python",
   "nbconvert_exporter": "python",
   "pygments_lexer": "ipython3",
   "version": "3.9.13"
  },
  "orig_nbformat": 4,
  "vscode": {
   "interpreter": {
    "hash": "60e7156cc1fb80bd42079031ca47b3b5da0fc3b8ac718fb2a3ba9fbc307bccfc"
   }
  }
 },
 "nbformat": 4,
 "nbformat_minor": 2
}
