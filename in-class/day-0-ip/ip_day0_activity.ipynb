{
 "cells": [
  {
   "attachments": {},
   "cell_type": "markdown",
   "id": "200d4cb0",
   "metadata": {},
   "source": [
    "# IP Day 0 Activity\n",
    "## Advanced Algorithms Spring 2023"
   ]
  },
  {
   "cell_type": "code",
   "execution_count": null,
   "id": "a8108462",
   "metadata": {},
   "outputs": [],
   "source": [
    "!pip install mip"
   ]
  },
  {
   "cell_type": "markdown",
   "id": "7babcc13",
   "metadata": {},
   "source": [
    "# Example 0: The 0/1 Knapsack Problem"
   ]
  },
  {
   "attachments": {},
   "cell_type": "markdown",
   "id": "d4341138",
   "metadata": {},
   "source": [
    "Let's think about the following formulation of the 0/1 Knapsack Problem (following the in-class worksheet!):\n",
    "\n",
    "#### Maximize:\n",
    "$$\n",
    "8x_1+12x_2+7x_3+15x_4+12x_5\n",
    "$$\n",
    "\n",
    "#### Such that:\n",
    "$$\n",
    "4x_1+8x_2+3x_3+6x_4+5x_5\\leq15 \\\\\n",
    "x_j\\in\\{0,1\\}\\ \\forall j\n",
    "$$\n",
    "\n",
    "Writing the formulation out is nice enough, but let's solve this Integer Programming problem. We can do so using an existing library specifically geared for solving problems like these. To start, we'll need to rewrite the problem a bit to suit the library - so let's do that. First, we write the IP form of the general 0/1 knapsack problem:\n",
    "\n",
    "$$\n",
    "\\max \\sum_{i\\in I} p_i\\cdot x_i \\\\\n",
    "s.t. \\sum_{i\\in I}w_i \\cdot x_i  \\leq c \\\\\n",
    "x_i \\in \\{0,1\\} \\forall i \\in I\n",
    "$$\n",
    "\n",
    "where:\n",
    "- $c$ = the capacity   \n",
    "- $p_i$ = the value\n",
    "- $x_i$ = the item\n",
    "\n",
    "Why did we do this? It's because it's a nice general representation for this type of problem. You don't have to do it like this, but it sure makes life easy.\n",
    "\n",
    "Next, let's match up our specific problem with this form:\n",
    "\n",
    "|  1  |  2  |  3  |  4  |  5  |\n",
    "|-----|-----|-----|-----|-----|\n",
    "| 8   | 12  | 7   | 15  | 12  |\n",
    "| 4   | 8   | 3   | 6   | 5   |\n",
    "\n",
    "We'll write that into a vector-form:\n",
    "$$\n",
    "p = [8,12,7,15,12] \\\\\n",
    "w = [4, 8, 3, 6, 5] \\\\\n",
    "c = 15\n",
    "$$\n",
    "\n",
    "Step 0: Define the problem!"
   ]
  },
  {
   "cell_type": "code",
   "execution_count": null,
   "id": "274cc7d8",
   "metadata": {},
   "outputs": [],
   "source": []
  },
  {
   "attachments": {},
   "cell_type": "markdown",
   "id": "cc6be0c4",
   "metadata": {},
   "source": [
    "We can now begin the main IP solving portion. We'll use the `python-mip` library, a highly polished and efficient implementation of the Branch-and-Cut solver for IP problems. It's a very nice example of how you don't always necessarily need to implement the algorithms you learn, since people have done that work for you. You will learn how branch and cut works next class, but for now, just focus on using the library to solve problems.\n",
    "\n",
    "Step 0 (part 2): Import the library."
   ]
  },
  {
   "cell_type": "code",
   "execution_count": 2,
   "id": "e6914ea3",
   "metadata": {},
   "outputs": [],
   "source": [
    "from mip import Model, xsum, maximize, BINARY"
   ]
  },
  {
   "cell_type": "markdown",
   "id": "d2838d67",
   "metadata": {},
   "source": [
    "We've imported a bunch of stuff from the library, which you'll see us use shortly.\n",
    "\n",
    "Step 1: Create a \"model\" to hold our problem definition."
   ]
  },
  {
   "cell_type": "code",
   "execution_count": null,
   "id": "ff514353",
   "metadata": {},
   "outputs": [],
   "source": []
  },
  {
   "cell_type": "markdown",
   "id": "7cb5e5fb",
   "metadata": {},
   "source": [
    "Step 2: Add as many variables (all the $x_i$) as you need to the problem definition (the model)."
   ]
  },
  {
   "cell_type": "code",
   "execution_count": null,
   "id": "7daf94ad",
   "metadata": {},
   "outputs": [],
   "source": []
  },
  {
   "cell_type": "markdown",
   "id": "4774d1a8",
   "metadata": {},
   "source": [
    "Step 3: Define the model's objective function."
   ]
  },
  {
   "cell_type": "code",
   "execution_count": null,
   "id": "dbd122e7",
   "metadata": {},
   "outputs": [],
   "source": []
  },
  {
   "cell_type": "markdown",
   "id": "ff80501f",
   "metadata": {},
   "source": [
    "Step 4: Add the constraint function(s) to the model."
   ]
  },
  {
   "cell_type": "code",
   "execution_count": null,
   "id": "984051cd",
   "metadata": {},
   "outputs": [],
   "source": []
  },
  {
   "cell_type": "markdown",
   "id": "9167581e",
   "metadata": {},
   "source": [
    "Step 5: Run the optimizer!"
   ]
  },
  {
   "cell_type": "code",
   "execution_count": null,
   "id": "131a8ff6",
   "metadata": {},
   "outputs": [],
   "source": []
  },
  {
   "cell_type": "markdown",
   "id": "dd761292",
   "metadata": {},
   "source": [
    "Step 6 (FINAL): Display the results!"
   ]
  },
  {
   "cell_type": "code",
   "execution_count": null,
   "id": "b6a4ea3a",
   "metadata": {},
   "outputs": [],
   "source": []
  },
  {
   "cell_type": "markdown",
   "id": "3f2a190e",
   "metadata": {},
   "source": [
    "**Seems like we can add items 0, 3, and 4, to the knapsack!**"
   ]
  },
  {
   "attachments": {},
   "cell_type": "markdown",
   "id": "19478dfc",
   "metadata": {},
   "source": [
    "# Example 2: Investing $$"
   ]
  },
  {
   "attachments": {},
   "cell_type": "markdown",
   "id": "6d2a2ca6",
   "metadata": {},
   "source": [
    "Let's think about the following formulation of the investment problem (following the in-class worksheet!):\n",
    "\n",
    "#### Maximize:\n",
    "\n",
    "$8x_1 + 11x_2 + 6x_3 + 4x_4$\n",
    "\n",
    "#### Subject To \n",
    "$5x_1 + 7x_2 + 4x_3 + 3x_4 \\leq 14$    \n",
    "$x_j \\in \\{0, 1\\}$ with $j = \\{1, 2, 3, 4\\}$   \n",
    "\n",
    "### Let's put it in the general form!\n",
    "$$\n",
    "\\max \\sum_{j=1}^{4} v_i \\cdot x_i \\\\\n",
    "s.t. \\\\\n",
    "\\sum_{j=1}{4} i_j \\cdot x_i \\leq m \\\\\n",
    "x_j \\in \\{0, 1\\} \\forall j\n",
    "$$\n",
    "\n",
    "where:\n",
    "- $v$ = the value of the investment\n",
    "- $i_j$ = required amount for that investment\n",
    "- $x_j$ the investment opportunity \n",
    "- $m$ = the amount of money we have to invest"
   ]
  },
  {
   "cell_type": "code",
   "execution_count": null,
   "id": "41f5125f",
   "metadata": {},
   "outputs": [],
   "source": []
  },
  {
   "cell_type": "code",
   "execution_count": null,
   "id": "8df7e1fa",
   "metadata": {},
   "outputs": [],
   "source": [
    "# View the results\n",
    "selected = [i for i in I if x[i].x >= 0.99]\n",
    "print(selected)\n",
    "print(m.objective_value)"
   ]
  },
  {
   "attachments": {},
   "cell_type": "markdown",
   "id": "8219e42c",
   "metadata": {},
   "source": [
    "# Example 3: Frequency Assignment"
   ]
  },
  {
   "attachments": {},
   "cell_type": "markdown",
   "id": "fa757a31",
   "metadata": {},
   "source": [
    "Let's examine a common problem among many wireless routing companies - frequency assignment. It's the problem of deciding which local area will use which frequency bands for their communications, while ensuring there's no overlap or confusion between neighboring regions. A good example of this would be your local radio service.\n",
    "\n",
    "For our particular in-class example, we're going to use an examination of Philadelphia's cell phone network done in 1973 (source paper is cited at the bottom of all this):\n",
    " - For efficient coverage of area, let's describe each region in the mobile network as a hexagon.\n",
    " - Each hexagon will consist of two numbers: its index number (label), as well as the number of communication channels the region requires.\n",
    "We'll represent this setup as seen below:\n",
    "\n",
    "![philly](philly-frequency.png)\n",
    "\n",
    "Each region (cell) has at most 6 neighboring regions; cell #2 is the region with the largest demand, while cell #5 has the most neighboring cells.\n",
    "\n",
    "Here's some additional information about the structure and selection of frequencies in each cell:\n",
    " - We can assign to each cell frequencies from the list $$U=\\{1,2,\\dots,\\bar{u}\\}$$ where $\\bar{u}$ represents the largest frequency you can assign. We use nice numbers for our frequencies (1, 2, etc.) for ease of notation, but without loss of information.\n",
    " - For each cell, the frequencies have to be at least 3 apart. For example, a cell can be assigned frequencies 1 and 4, but not frequencies 1 and 3.\n",
    " - The frequencies of neighboring cells have to be at least 2 apart. For example, cell #1 can't have frequency 7 if cell #2 has frequency 8.\n",
    "\n",
    "**Your exercise**: Devise the general mathematical formulation for a problem like this.\n",
    "\n",
    "IP Formulation:\n",
    "\n",
    "$$\\text{Minimize} \\quad z$$\n",
    "\n",
    "$$ \\text{Such that} \\\\\n",
    "\\sum_{c=1}^{\\bar{u}}x_{(i,c)} = r_i \\forall i \\in N \\\\\n",
    "z \\geq c\\cdot x_{(i,c)} \\forall i \\in N, c \\in U \\\\\n",
    "x_{(i,c)} + x_{(j,c')} \\leq 1 \\forall (i,j,c,c') \\in N \\times N \\times U \\times U : i \\neq \\land |c-c'| < d_{(i,j)} \\\\\n",
    "x_{(i,c)} + x_{(i,c')} \\leq 1 \\forall i,c \\in N \\times U, c' \\in \\{c, c+1+\\dots, \\min(c+d_{i,i},\\bar{u})\\} \\\\\n",
    "x_{(i,c)} \\in \\{0,1\\} \\forall i \\in N, c \\in U \\\\\n",
    "z \\geq 0\n",
    "$$"
   ]
  },
  {
   "cell_type": "markdown",
   "id": "5c2d0858",
   "metadata": {},
   "source": [
    "Now, let's get to implementing a solution for this. We'll use the same `python-mip` library as before.\n",
    "\n",
    "Step 0 - import the necessary things. We've done that for you (maybe these are clues? Who knows)."
   ]
  },
  {
   "cell_type": "code",
   "execution_count": 24,
   "id": "ff7d6fd6",
   "metadata": {},
   "outputs": [],
   "source": [
    "from itertools import product\n",
    "from mip import Model, xsum, minimize, BINARY"
   ]
  },
  {
   "cell_type": "markdown",
   "id": "f748c5ac",
   "metadata": {},
   "source": [
    "Step 0 (part 2): Let's define the problem. Here's what we'd suggest:\n",
    " * Something that contains the number of required channels per region\n",
    " * Something that defines the necessary channel distance between any two regions\n",
    " * The number of regions"
   ]
  },
  {
   "cell_type": "code",
   "execution_count": null,
   "id": "2ec6089f",
   "metadata": {},
   "outputs": [],
   "source": []
  },
  {
   "cell_type": "markdown",
   "id": "76f7cd99",
   "metadata": {},
   "source": [
    "We've defined the set $U$ for you (therefore also including $\\bar{u}$)."
   ]
  },
  {
   "cell_type": "code",
   "execution_count": 26,
   "id": "ccead418",
   "metadata": {},
   "outputs": [],
   "source": [
    "# in complete applications this upper bound should be obtained from a feasible\n",
    "# solution produced with some heuristic\n",
    "U = range(sum(d[i][j] for (i, j) in product(N, N)) + sum(el for el in r))"
   ]
  },
  {
   "cell_type": "markdown",
   "id": "0e43328c",
   "metadata": {},
   "source": [
    "Step 1: Create a model to hold our problem definition."
   ]
  },
  {
   "cell_type": "code",
   "execution_count": null,
   "id": "8425bae3",
   "metadata": {},
   "outputs": [],
   "source": []
  },
  {
   "cell_type": "markdown",
   "id": "e1bb8ff0",
   "metadata": {},
   "source": [
    "Step 2: Add as many variables (all the $x_{(i,c)}$, etc.) as you need to the problem definition (the model)."
   ]
  },
  {
   "cell_type": "code",
   "execution_count": null,
   "id": "e744fa2e",
   "metadata": {},
   "outputs": [],
   "source": []
  },
  {
   "cell_type": "markdown",
   "id": "d369cfee",
   "metadata": {},
   "source": [
    "Step 3: Define the model's objective function."
   ]
  },
  {
   "cell_type": "code",
   "execution_count": null,
   "id": "58d542ef",
   "metadata": {},
   "outputs": [],
   "source": []
  },
  {
   "cell_type": "markdown",
   "id": "b640b85b",
   "metadata": {},
   "source": [
    "Step 4: Add the constraint function(s) to the model."
   ]
  },
  {
   "cell_type": "code",
   "execution_count": null,
   "id": "813ee24e",
   "metadata": {},
   "outputs": [],
   "source": []
  },
  {
   "cell_type": "markdown",
   "id": "99658e5c",
   "metadata": {},
   "source": [
    "Step 5: Run the optimizer!"
   ]
  },
  {
   "cell_type": "code",
   "execution_count": null,
   "id": "866c676b",
   "metadata": {},
   "outputs": [],
   "source": []
  },
  {
   "cell_type": "markdown",
   "id": "aabbbaf0",
   "metadata": {},
   "source": [
    "Step 6 (FINAL): Display the results! Doing this is unnecessarily complicated, so we wrote it out for you."
   ]
  },
  {
   "cell_type": "code",
   "execution_count": 32,
   "id": "6278e099",
   "metadata": {},
   "outputs": [
    {
     "name": "stdout",
     "output_type": "stream",
     "text": [
      "Channels of node 0: [0, 6, 12]\n",
      "Channels of node 1: [4, 10, 16, 22, 38]\n",
      "Channels of node 2: [2, 8, 14, 20, 26, 31, 36, 40]\n",
      "Channels of node 3: [1, 6, 13]\n",
      "Channels of node 4: [4, 15, 18, 22, 29, 34]\n",
      "Channels of node 5: [2, 8, 20, 26, 31]\n",
      "Channels of node 6: [0, 6, 12, 18, 24, 29, 34]\n",
      "Channels of node 7: [8, 11, 18]\n"
     ]
    }
   ],
   "source": [
    "if m.num_solutions:\n",
    "    for i in N:\n",
    "        print('Channels of node %d: %s' % (i, [c for c in U if x[i][c].x >=\n",
    "                                               0.99]))"
   ]
  },
  {
   "cell_type": "markdown",
   "id": "e42a6b8d",
   "metadata": {},
   "source": [
    "# Appendix A\n",
    "### Source list:\n",
    "#### Knapsack Problem\n",
    "Original source code (adapted to our example): https://docs.python-mip.com/en/latest/examples.html\n",
    "#### Frequency Assignment \n",
    "Original paper: L.G. Anderson: A Simulation Study of some Dynamic Channel Assignment Algorithms in a High Capacity Mobile Telecommunications System. IEEE Transactions on Communications, 21:1294–1301. 1973.\n",
    "\n",
    "Source code: https://docs.python-mip.com/en/latest/examples.html"
   ]
  },
  {
   "cell_type": "markdown",
   "id": "9b7fbc05",
   "metadata": {},
   "source": [
    "# Appendix B: Traveling Salesman Problem (do this on your own)\n",
    "Source for example and code: https://docs.python-mip.com/en/latest/examples.html"
   ]
  },
  {
   "attachments": {},
   "cell_type": "markdown",
   "id": "bbd74d73",
   "metadata": {},
   "source": [
    "![tsp](tsp.png)"
   ]
  },
  {
   "cell_type": "markdown",
   "id": "05d8b302",
   "metadata": {},
   "source": [
    "We're going to use an example that's on the `python-mip` website, because it's done nicely. The source is linked right above - look through that for the problem formulation and information."
   ]
  },
  {
   "attachments": {},
   "cell_type": "markdown",
   "id": "0a25736b",
   "metadata": {},
   "source": [
    "Import the necessary things. We've done that for you"
   ]
  },
  {
   "cell_type": "code",
   "execution_count": 9,
   "id": "868e042d",
   "metadata": {},
   "outputs": [],
   "source": [
    "from itertools import product\n",
    "from sys import stdout as out\n",
    "from mip import Model, xsum, minimize, BINARY"
   ]
  },
  {
   "attachments": {},
   "cell_type": "markdown",
   "id": "53f5ebf9",
   "metadata": {},
   "source": [
    "Define the problem"
   ]
  },
  {
   "cell_type": "code",
   "execution_count": 2,
   "id": "4d891507",
   "metadata": {},
   "outputs": [],
   "source": [
    "# names of places to visit\n",
    "\n",
    "# distances in an upper triangular matrix\n",
    "\n",
    "# number of nodes and list of vertices\n",
    "\n",
    "# distances matrix"
   ]
  },
  {
   "attachments": {},
   "cell_type": "markdown",
   "id": "99bfbd43",
   "metadata": {},
   "source": [
    "Define the model and constraints"
   ]
  },
  {
   "cell_type": "code",
   "execution_count": null,
   "id": "a3de2541",
   "metadata": {},
   "outputs": [],
   "source": []
  },
  {
   "attachments": {},
   "cell_type": "markdown",
   "id": "f0ba3b03",
   "metadata": {},
   "source": [
    "Run the model and find a solution"
   ]
  },
  {
   "cell_type": "code",
   "execution_count": null,
   "id": "1c203fb0",
   "metadata": {},
   "outputs": [],
   "source": []
  }
 ],
 "metadata": {
  "kernelspec": {
   "display_name": "env-aa-answers",
   "language": "python",
   "name": "python3"
  },
  "language_info": {
   "codemirror_mode": {
    "name": "ipython",
    "version": 3
   },
   "file_extension": ".py",
   "mimetype": "text/x-python",
   "name": "python",
   "nbconvert_exporter": "python",
   "pygments_lexer": "ipython3",
   "version": "3.7.6 (default, Jan  8 2020, 19:59:22) \n[GCC 7.3.0]"
  },
  "vscode": {
   "interpreter": {
    "hash": "c8e9fcbf280d4d0f54cfb759b225d893e7d0f55472fa27a3b674bdc5c0ffcd5e"
   }
  }
 },
 "nbformat": 4,
 "nbformat_minor": 5
}
